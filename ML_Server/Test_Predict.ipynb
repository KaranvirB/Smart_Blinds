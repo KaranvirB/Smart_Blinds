{
 "cells": [
  {
   "cell_type": "code",
   "execution_count": null,
   "id": "fdae19b2",
   "metadata": {},
   "outputs": [
    {
     "name": "stdout",
     "output_type": "stream",
     "text": [
      "Light, Temp, Day, Min\n"
     ]
    }
   ],
   "source": [
    "import time\n",
    "import pandas as pd\n",
    "from datetime import datetime\n",
    "import joblib\n",
    "import os.path\n",
    "\n",
    "#Firebase Libraries\n",
    "import firebase_admin\n",
    "from firebase_admin import credentials\n",
    "from firebase_admin import db\n",
    "\n",
    "#Machine Leearning Libraries\n",
    "from sklearn import tree\n",
    "from sklearn.tree import DecisionTreeClassifier\n",
    "from sklearn.model_selection import train_test_split\n",
    "from sklearn import model_selection\n",
    "from sklearn import metrics\n",
    "from sklearn import datasets\n",
    "\n",
    "SERIAL_NUM = 123\n",
    "\n",
    "#Fetch the service account key JSON file contents\n",
    "cred = credentials.Certificate(\"serviceAccountKey.json\")\n",
    "\n",
    "#initialize the app if not already\n",
    "if not firebase_admin._apps:\n",
    "    firebase_admin.initialize_app(cred, {\n",
    "        'databaseURL': 'https://smartyblinds-default-rtdb.firebaseio.com/'\n",
    "    })\n",
    "\n",
    "#Automated process, only if we have trained a model\n",
    "\n",
    "while(1):\n",
    "    \n",
    "    if(os.path.isfile('Tree_Model_'+ str(SERIAL_NUM) +'.sav')):\n",
    "\n",
    "        #Retrieve Model\n",
    "        dtree = joblib.load('Tree_Model_'+ str(SERIAL_NUM) +'.sav')\n",
    "\n",
    "        #Get Current sensor data\n",
    "        ref_event = db.reference('Blinds/' + str(SERIAL_NUM) + '/Current/Light')\n",
    "        current_light = ref_event.get()\n",
    "\n",
    "        ref_event = db.reference('Blinds/' + str(SERIAL_NUM) + '/Current/Temp')\n",
    "        current_temperature = ref_event.get()\n",
    "\n",
    "        ref_event = db.reference('Blinds/' + str(SERIAL_NUM) + '/Current/RTC')\n",
    "        current_RTC = ref_event.get()\n",
    "        dateOBJ = datetime.strptime(str(current_RTC), \"%Y-%m-%d %H:%M:%S\")\n",
    "\n",
    "        day = dateOBJ.weekday()\n",
    "\n",
    "        month = dateOBJ.month\n",
    "\n",
    "        minutes = (dateOBJ.hour * 60) + (dateOBJ.minute)\n",
    "        \n",
    "        print(\"Light, Temp, Day, Min\")\n",
    "        \n",
    "        current_light, current_temperature, day, minutes = input(\"Current test: \").split()\n",
    "        \n",
    "        current_test = [[current_light,current_temperature,day,minutes]]\n",
    "\n",
    "        #print(current_test)\n",
    "\n",
    "        #Current sensor data is tested with the model\n",
    "        new_output = dtree.predict(current_test)\n",
    "\n",
    "        print(new_output)\n",
    "\n",
    "        ref_event = db.reference('Blinds/' + str(SERIAL_NUM) + '/Blind_State')\n",
    "        blind_event = ref_event.get()\n",
    "\n",
    "        if (new_output.item(0) != blind_event):\n",
    "\n",
    "            #control blinds automatically\n",
    "            ref = db.reference('Blinds/' + str(SERIAL_NUM) + '/')\n",
    "            ref.update({\"Operation\": \"Auto\"})\n",
    "            ref.update({\"Blind_State\": new_output.item(0)})"
   ]
  },
  {
   "cell_type": "code",
   "execution_count": null,
   "id": "603d9a2c",
   "metadata": {},
   "outputs": [],
   "source": []
  }
 ],
 "metadata": {
  "kernelspec": {
   "display_name": "Python 3 (ipykernel)",
   "language": "python",
   "name": "python3"
  },
  "language_info": {
   "codemirror_mode": {
    "name": "ipython",
    "version": 3
   },
   "file_extension": ".py",
   "mimetype": "text/x-python",
   "name": "python",
   "nbconvert_exporter": "python",
   "pygments_lexer": "ipython3",
   "version": "3.9.13"
  }
 },
 "nbformat": 4,
 "nbformat_minor": 5
}
